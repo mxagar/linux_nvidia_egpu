{
 "cells": [
  {
   "cell_type": "markdown",
   "id": "938c5001",
   "metadata": {},
   "source": [
    "# Tests with the eGPU"
   ]
  },
  {
   "cell_type": "markdown",
   "id": "b73bcc82",
   "metadata": {},
   "source": []
  }
 ],
 "metadata": {
  "language_info": {
   "name": "python"
  }
 },
 "nbformat": 4,
 "nbformat_minor": 5
}
