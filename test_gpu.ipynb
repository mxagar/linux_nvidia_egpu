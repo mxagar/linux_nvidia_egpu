{
 "cells": [
  {
   "cell_type": "markdown",
   "id": "938c5001",
   "metadata": {},
   "source": [
    "# Tests with the eGPU"
   ]
  },
  {
   "cell_type": "markdown",
   "id": "569f54a8",
   "metadata": {},
   "source": [
    "Table of contents:\n",
    "\n",
    "- [Basic Checks](#basic-checks)\n",
    "- [Basic Sequential Neural Network](#basic-sequential-neural-network)\n",
    "- [MNIST Training Test](#mnist-training-test)"
   ]
  },
  {
   "cell_type": "markdown",
   "id": "042ab40f",
   "metadata": {},
   "source": [
    "## Basic Checks"
   ]
  },
  {
   "cell_type": "code",
   "execution_count": 1,
   "id": "8f96eef8",
   "metadata": {},
   "outputs": [
    {
     "name": "stdout",
     "output_type": "stream",
     "text": [
      "CUDA available: False\n",
      "GPU count: 0\n",
      "Memory allocated: 0.0 MB\n",
      "Max memory allocated: 0.0 MB\n",
      "Memory reserved: 0.0 MB\n"
     ]
    }
   ],
   "source": [
    "import torch\n",
    "\n",
    "# How many GPUs?\n",
    "print(\"CUDA available:\", torch.cuda.is_available())\n",
    "print(\"GPU count:\", torch.cuda.device_count())\n",
    "\n",
    "# Name of each GPU\n",
    "for i in range(torch.cuda.device_count()):\n",
    "    print(i, torch.cuda.get_device_name(i))\n",
    "\n",
    "# Memory usage\n",
    "device = torch.device(\"cuda:0\" if torch.cuda.is_available() else \"cpu\")\n",
    "print(\"Memory allocated:\", torch.cuda.memory_allocated(device) / 1024**2, \"MB\")\n",
    "print(\"Max memory allocated:\", torch.cuda.max_memory_allocated(device) / 1024**2, \"MB\")\n",
    "print(\"Memory reserved:\", torch.cuda.memory_reserved(device) / 1024**2, \"MB\")\n",
    "\n",
    "# Clear cache\n",
    "torch.cuda.empty_cache()"
   ]
  },
  {
   "cell_type": "code",
   "execution_count": 2,
   "id": "0e9a6792",
   "metadata": {},
   "outputs": [
    {
     "name": "stdout",
     "output_type": "stream",
     "text": [
      "Sat Oct  4 11:24:28 2025       \n",
      "+-----------------------------------------------------------------------------------------+\n",
      "| NVIDIA-SMI 550.163.01             Driver Version: 550.163.01     CUDA Version: 12.4     |\n",
      "|-----------------------------------------+------------------------+----------------------+\n",
      "| GPU  Name                 Persistence-M | Bus-Id          Disp.A | Volatile Uncorr. ECC |\n",
      "| Fan  Temp   Perf          Pwr:Usage/Cap |           Memory-Usage | GPU-Util  Compute M. |\n",
      "|                                         |                        |               MIG M. |\n",
      "|=========================================+========================+======================|\n",
      "|   0  NVIDIA T500                    Off |   00000000:01:00.0 Off |                  N/A |\n",
      "| N/A   49C    P8             N/A / ERR!  |       8MiB /   4096MiB |      0%      Default |\n",
      "|                                         |                        |                  N/A |\n",
      "+-----------------------------------------+------------------------+----------------------+\n",
      "|   1  NVIDIA GeForce RTX 3060        Off |   00000000:22:00.0 Off |                  N/A |\n",
      "|  0%   45C    P5             22W /  170W |     360MiB /  12288MiB |     26%      Default |\n",
      "|                                         |                        |                  N/A |\n",
      "+-----------------------------------------+------------------------+----------------------+\n",
      "                                                                                         \n",
      "+-----------------------------------------------------------------------------------------+\n",
      "| Processes:                                                                              |\n",
      "|  GPU   GI   CI        PID   Type   Process name                              GPU Memory |\n",
      "|        ID   ID                                                               Usage      |\n",
      "|=========================================================================================|\n",
      "|    1   N/A  N/A      3508      G   /usr/lib/xorg/Xorg                            103MiB |\n",
      "|    1   N/A  N/A      3858      G   /usr/bin/gnome-shell                          139MiB |\n",
      "|    1   N/A  N/A      5827      G   /proc/self/exe                                 66MiB |\n",
      "+-----------------------------------------------------------------------------------------+\n"
     ]
    }
   ],
   "source": [
    "# Dosplay CLI tool output nvidia-smi\n",
    "!nvidia-smi\n",
    "\n",
    "# For live tracking in Terminal, use built-in loop option\n",
    "# nvidia-smi -l 1"
   ]
  },
  {
   "cell_type": "markdown",
   "id": "214cf33f",
   "metadata": {},
   "source": [
    "## Basic Sequential Neural Network"
   ]
  },
  {
   "cell_type": "code",
   "execution_count": 7,
   "id": "f501dfab",
   "metadata": {},
   "outputs": [
    {
     "name": "stdout",
     "output_type": "stream",
     "text": [
      "Using device: mps\n",
      "Epoch 1, Loss: 2.3300\n",
      "Epoch 2, Loss: 2.3217\n",
      "Epoch 3, Loss: 2.3163\n",
      "Epoch 4, Loss: 2.3130\n",
      "Epoch 5, Loss: 2.3109\n",
      "Training completed in 0.99 seconds\n"
     ]
    }
   ],
   "source": [
    "import time\n",
    "import torch\n",
    "import torch.nn as nn\n",
    "import torch.optim as optim\n",
    "\n",
    "if torch.cuda.is_available():\n",
    "    # Pick device (force RTX 3060, index 0)\n",
    "    device = torch.device(\"cuda:0\")\n",
    "    print(\"Using device:\", device, torch.cuda.get_device_name(device))\n",
    "elif torch.backends.mps.is_available():\n",
    "    device = torch.device(\"mps\")\n",
    "    print(\"Using device:\", device)\n",
    "else:\n",
    "    device = torch.device(\"cpu\")\n",
    "    print(\"Using device:\", device)\n",
    "\n",
    "# Dummy dataset: 100,000 samples, 100 features, 10 classes\n",
    "X = torch.randn(100000, 100, device=device)\n",
    "y = torch.randint(0, 10, (100000,), device=device)\n",
    "\n",
    "# Simple MLP\n",
    "model = nn.Sequential(\n",
    "    nn.Linear(100, 256),\n",
    "    nn.ReLU(),\n",
    "    nn.Linear(256, 10)\n",
    ").to(device)\n",
    "\n",
    "criterion = nn.CrossEntropyLoss()\n",
    "optimizer = optim.Adam(model.parameters(), lr=1e-3)\n",
    "\n",
    "# Training loop\n",
    "start_time = time.time()\n",
    "for epoch in range(5):\n",
    "    optimizer.zero_grad()\n",
    "    outputs = model(X)\n",
    "    loss = criterion(outputs, y)\n",
    "    loss.backward()\n",
    "    optimizer.step()\n",
    "    print(f\"Epoch {epoch+1}, Loss: {loss.item():.4f}\")\n",
    "end_time = time.time()\n",
    "print(f\"Training completed in {end_time - start_time:.2f} seconds\")"
   ]
  },
  {
   "cell_type": "markdown",
   "id": "13b3b4b6",
   "metadata": {},
   "source": [
    "## MNIST Training Test"
   ]
  },
  {
   "cell_type": "code",
   "execution_count": null,
   "id": "59d3caee",
   "metadata": {},
   "outputs": [
    {
     "name": "stdout",
     "output_type": "stream",
     "text": [
      "Using device: mps\n",
      "Epoch 1, Loss: 1.0225\n",
      "Epoch 2, Loss: 0.4009\n",
      "Epoch 3, Loss: 0.3360\n",
      "Epoch 4, Loss: 0.3063\n",
      "Epoch 5, Loss: 0.2873\n",
      "Epoch 6, Loss: 0.2738\n",
      "Epoch 7, Loss: 0.2639\n",
      "Epoch 8, Loss: 0.2558\n",
      "Epoch 9, Loss: 0.2495\n",
      "Epoch 10, Loss: 0.2437\n",
      "Training completed in 61.50 seconds\n"
     ]
    }
   ],
   "source": [
    "import time\n",
    "import torch\n",
    "import torch.nn as nn\n",
    "import torch.optim as optim\n",
    "import torchvision\n",
    "import torchvision.transforms as transforms\n",
    "\n",
    "if torch.cuda.is_available():\n",
    "    # Pick device (force RTX 3060, index 0)\n",
    "    device = torch.device(\"cuda:0\")\n",
    "    print(\"Using device:\", device, torch.cuda.get_device_name(device))\n",
    "elif torch.backends.mps.is_available():\n",
    "    device = torch.device(\"mps\")\n",
    "    print(\"Using device:\", device)\n",
    "else:\n",
    "    device = torch.device(\"cpu\")\n",
    "    print(\"Using device:\", device)\n",
    "\n",
    "# Load MNIST\n",
    "transform = transforms.Compose([transforms.ToTensor()])\n",
    "trainset = torchvision.datasets.MNIST(root='./data', train=True, download=True, transform=transform)\n",
    "trainloader = torch.utils.data.DataLoader(trainset, batch_size=64, shuffle=True)\n",
    "\n",
    "# Simple CNN\n",
    "class Net(nn.Module):\n",
    "    def __init__(self):\n",
    "        super(Net, self).__init__()\n",
    "        self.conv1 = nn.Conv2d(1, 32, 3, 1)\n",
    "        self.fc1 = None   # we’ll initialize later\n",
    "        self.fc2 = nn.Linear(128, 10)\n",
    "\n",
    "    def forward(self, x):\n",
    "        x = torch.relu(self.conv1(x))\n",
    "        x = torch.flatten(x, 1)\n",
    "        if self.fc1 is None:  # lazy init\n",
    "            self.fc1 = nn.Linear(x.shape[1], 128).to(x.device)\n",
    "        x = torch.relu(self.fc1(x))\n",
    "        x = self.fc2(x)\n",
    "        return x\n",
    "\n",
    "model = Net().to(device)\n",
    "criterion = nn.CrossEntropyLoss()\n",
    "optimizer = optim.Adam(model.parameters(), lr=1e-3)\n",
    "\n",
    "start_time = time.time()\n",
    "for epoch in range(10):\n",
    "    running_loss = 0.0\n",
    "    for i, (inputs, labels) in enumerate(trainloader):\n",
    "        inputs, labels = inputs.to(device), labels.to(device)\n",
    "        optimizer.zero_grad()\n",
    "        outputs = model(inputs)\n",
    "        loss = criterion(outputs, labels)\n",
    "        loss.backward()\n",
    "        optimizer.step()\n",
    "        running_loss += loss.item()\n",
    "    print(f\"Epoch {epoch+1}, Loss: {running_loss/len(trainloader):.4f}\")\n",
    "end_time = time.time()\n",
    "print(f\"Training completed in {end_time - start_time:.2f} seconds\")"
   ]
  },
  {
   "cell_type": "code",
   "execution_count": 5,
   "id": "d458be25",
   "metadata": {},
   "outputs": [],
   "source": [
    "# Delete tensors\n",
    "del model, optimizer # X, y\n",
    "# Empty any content in GPU\n",
    "torch.cuda.empty_cache()"
   ]
  },
  {
   "cell_type": "code",
   "execution_count": null,
   "id": "d46ced74",
   "metadata": {},
   "outputs": [],
   "source": []
  }
 ],
 "metadata": {
  "kernelspec": {
   "display_name": "gpu",
   "language": "python",
   "name": "python3"
  },
  "language_info": {
   "codemirror_mode": {
    "name": "ipython",
    "version": 3
   },
   "file_extension": ".py",
   "mimetype": "text/x-python",
   "name": "python",
   "nbconvert_exporter": "python",
   "pygments_lexer": "ipython3",
   "version": "3.11.14"
  }
 },
 "nbformat": 4,
 "nbformat_minor": 5
}
